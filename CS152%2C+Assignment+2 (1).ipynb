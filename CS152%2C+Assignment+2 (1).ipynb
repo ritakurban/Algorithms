{
 "cells": [
  {
   "cell_type": "code",
   "execution_count": null,
   "metadata": {
    "collapsed": true
   },
   "outputs": [],
   "source": [
    "Rita Kurban\n",
    "\n",
    "Professor Shekhar\n",
    "\n",
    "CS152"
   ]
  },
  {
   "cell_type": "code",
   "execution_count": 1,
   "metadata": {
    "collapsed": true
   },
   "outputs": [],
   "source": [
    "from copy import deepcopy"
   ]
  },
  {
   "cell_type": "code",
   "execution_count": 2,
   "metadata": {
    "collapsed": true
   },
   "outputs": [],
   "source": [
    "class Literal:\n",
    "    '''Define a Literal with Name, Sign, and Value attributes.'''\n",
    "    def __init__(self, name, sign = True):\n",
    "        self.name = name\n",
    "        self.sign = sign\n",
    "        self.value = None\n",
    "        \n",
    "    def __repr__(self):\n",
    "        '''Print the literal with its sign.''' \n",
    "        if self.sign:\n",
    "            return self.name\n",
    "        return \"-\" + self.name\n",
    "        \n",
    "    def __neg__(self):\n",
    "        ''' Overload the negation.''' \n",
    "        neg = Literal(self.name)\n",
    "        neg.sign = False\n",
    "        return neg\n",
    "        \n",
    "    def __eq__(self, other):\n",
    "        '''Make equality independent of sign.''' \n",
    "        return self.name == other.name\n",
    "    \n",
    "    def __hash__(self):\n",
    "        ''' Hash function to work with sets and dictionaries.''' \n",
    "        return hash(str(self.sign) + self.name)"
   ]
  },
  {
   "cell_type": "code",
   "execution_count": 3,
   "metadata": {
    "collapsed": true
   },
   "outputs": [],
   "source": [
    "#Extension 1\n",
    "\n",
    "def degree(clauses, symbols): \n",
    "    \"\"\"Returns the literal that appears the most in the clauses.\"\"\"    \n",
    "    lis = dict()\n",
    "    max_degree = None\n",
    "    count = 0\n",
    "    \n",
    "    #Go through every literal and determine its degree\n",
    "    for clause in clauses:\n",
    "        for symbol in clause:\n",
    "            abs_symbol = deepcopy(symbol)\n",
    "            abs_symbol.sign = True\n",
    "            if abs_symbol not in symbols:\n",
    "                continue\n",
    "            if abs_symbol not in lis:\n",
    "                lis[abs_symbol] = 1\n",
    "            else:\n",
    "                lis[abs_symbol] += 1\n",
    "\n",
    "            #Update the count to the literal with the highest degree so far    \n",
    "            if lis[abs_symbol] > count:\n",
    "                count = lis[abs_symbol]\n",
    "                max_degree = abs_symbol\n",
    "    # Return the most frequent symbol\n",
    "    return max_degree"
   ]
  },
  {
   "cell_type": "code",
   "execution_count": 4,
   "metadata": {
    "collapsed": true
   },
   "outputs": [],
   "source": [
    "#Extension 2\n",
    "def pure_symbol(clauses, symbols):    \n",
    "    \"\"\"Returns the literal appearing with the same sign in all the clauses of the given KB.\"\"\"  \n",
    "    #Go through all the literals in every clause and separate them into positive and negative\n",
    "    pos = set({})\n",
    "    neg = set({})\n",
    "    for clause in clauses:\n",
    "        for symbol in clause:\n",
    "            # Check if symbol is in symbols\n",
    "            abs_symb = deepcopy(symbol)\n",
    "            abs_symb.sign = True\n",
    "            if abs_symb not in symbols:\n",
    "                continue\n",
    "            if symbol.sign:\n",
    "                if symbol not in pos:\n",
    "                    pos.add(abs_symb)\n",
    "            else:\n",
    "                if symbol not in neg:\n",
    "                    neg.add(abs_symb)\n",
    "    # Determine pure symbols                \n",
    "    pure = []\n",
    "    pure = [s for s in pos if s not in neg] + [s for s in neg if s not in pos]\n",
    "    #Use the degree heuristic to determine the most frequent pure symbol\n",
    "    max_degree = degree(clauses, pure)\n",
    "    # Return the literal and its value\n",
    "    if max_degree in pos:\n",
    "        return max_degree, True\n",
    "    else:\n",
    "        return max_degree, False"
   ]
  },
  {
   "cell_type": "code",
   "execution_count": 5,
   "metadata": {
    "collapsed": true
   },
   "outputs": [],
   "source": [
    "def unit_clause(clauses,symbols):\n",
    "    \"\"\" Finds clauses with only one literal.\"\"\"\n",
    "    for clause in clauses:\n",
    "        if len(clause) != 1:\n",
    "            continue\n",
    "        for symbol in clause:\n",
    "            abs_symb = deepcopy(symbol)\n",
    "            abs_symb.sign = True\n",
    "            if abs_symb in symbols:\n",
    "                return abs_symb, symbol.sign\n",
    "    return None, False"
   ]
  },
  {
   "cell_type": "code",
   "execution_count": 6,
   "metadata": {
    "collapsed": false
   },
   "outputs": [],
   "source": [
    "def check_clauses(clauses, model):\n",
    "    ''' Function that takes a set of clauses and checks whether all of them are satisfiable.\n",
    "    Returns True if all clauses are True, False if at least one of them is False, and \"Continue\"\n",
    "    if some of the clauses' symbols aren't in the model.'''  \n",
    "    correct = 0\n",
    "    for clause in clauses:\n",
    "        for symbol in clause:\n",
    "            s = deepcopy(symbol)\n",
    "            s.sign = True\n",
    "            # Check if symbol is in the model\n",
    "            if s not in model:\n",
    "                return \"Continue\"\n",
    "            if symbol.sign == True:\n",
    "                symbol.value = model[s]\n",
    "            else:\n",
    "                symbol.value = not model[s]\n",
    "            # If at least one symbol is True, the clause is True\n",
    "            if symbol.value == True:\n",
    "                correct +=1\n",
    "                break\n",
    "    # If the number of correct clauses is the same as their number, return True\n",
    "    if correct == len(clauses):\n",
    "        return True\n",
    "    # If there are no missing symbols and not all clauses are true, return False\n",
    "    else:\n",
    "        return False"
   ]
  },
  {
   "cell_type": "code",
   "execution_count": 7,
   "metadata": {
    "collapsed": false
   },
   "outputs": [],
   "source": [
    "def DPLL(clauses, symbols, model):\n",
    "    ''' Am implementation of the DPLL algorithm with pure symbol,\n",
    "    unit, and degree heuristics.'''\n",
    "    # Check if any of the clauses are False\n",
    "    if check_clauses(clauses, model) == False:\n",
    "        return False, None\n",
    "    # Check if all clauses are True\n",
    "    if check_clauses(clauses, model) == True:\n",
    "        # If the clause is True, the rest of the symbols can be \"Free\".\n",
    "        for symbol in symbols:\n",
    "            model[symbol] = \"Free\"\n",
    "        # Return True and model\n",
    "        return True, model\n",
    "    # Pure symbol heuristic\n",
    "    pure, value = pure_symbol(clauses, symbols)\n",
    "    if pure != None:\n",
    "        current = pure\n",
    "        symbols.remove(pure)\n",
    "        model[current] = value\n",
    "        r, m = DPLL(clauses, symbols, model)\n",
    "        if r == True:\n",
    "            return True, m\n",
    "    # Unit clause heuristic\n",
    "    unit, val = unit_clause(clauses, symbols)\n",
    "    if unit != None:\n",
    "        current = unit\n",
    "        symbols.remove(unit)\n",
    "        model[current] = val\n",
    "        r0, m0 = DPLL(clauses, symbols, model)\n",
    "        if r0 == True:\n",
    "            return True, m0\n",
    "    # If both heuristics didn't work, select the symbol that appears in the KB the most\n",
    "    high_degree = degree(clauses,symbols)\n",
    "    current = high_degree\n",
    "    symbols.remove(high_degree)\n",
    "    model[current] = False\n",
    "    r1, m1 = DPLL(clauses, symbols, model)\n",
    "    if r1 == True:\n",
    "        return True, m1\n",
    "    model[current] = True\n",
    "    r2, m2 = DPLL(clauses, symbols, model)\n",
    "    if r2 == True:\n",
    "        return True, m2\n",
    "    # If none of the results is True, return False\n",
    "    return False, None\n"
   ]
  },
  {
   "cell_type": "code",
   "execution_count": 8,
   "metadata": {
    "collapsed": false
   },
   "outputs": [],
   "source": [
    "def DPLL_satisfiable(s):\n",
    "    \"\"\" Function that transforms KB into a set of clauses and symbols and calls DPLL()\"\"\"\n",
    "    # Create a list of clauses\n",
    "    clauses = [clause for clause in s]\n",
    "    # Create a set of symbols\n",
    "    symbols = set()\n",
    "    for clause in clauses:\n",
    "        for symbol in clause:\n",
    "            symb = deepcopy(symbol)\n",
    "            symb.sign = True\n",
    "            symbols.add(symb)\n",
    "    return DPLL(clauses, symbols, {})"
   ]
  },
  {
   "cell_type": "code",
   "execution_count": 9,
   "metadata": {
    "collapsed": false
   },
   "outputs": [
    {
     "data": {
      "text/plain": [
       "(True, {C: False, E: False, B: False, F: False, D: True, A: False})"
      ]
     },
     "execution_count": 9,
     "metadata": {},
     "output_type": "execute_result"
    }
   ],
   "source": [
    "# Excercise 7.20 from Russel and Norvig\n",
    "\n",
    "# Define Literals\n",
    "A = Literal('A')\n",
    "B = Literal('B')\n",
    "C = Literal('C')\n",
    "D = Literal('D')\n",
    "E = Literal('E')\n",
    "F = Literal('F')\n",
    "\n",
    "KB = [{-A, B, E}, {-B, A}, {-E, A}, {-E, D}, \n",
    "      {-C, -F, -B}, {-E, B}, {-B, F}, {-B, C}]\n",
    "\n",
    "DPLL_satisfiable(KB)"
   ]
  }
 ],
 "metadata": {
  "kernelspec": {
   "display_name": "Python 2",
   "language": "python",
   "name": "python2"
  },
  "language_info": {
   "codemirror_mode": {
    "name": "ipython",
    "version": 2
   },
   "file_extension": ".py",
   "mimetype": "text/x-python",
   "name": "python",
   "nbconvert_exporter": "python",
   "pygments_lexer": "ipython2",
   "version": "2.7.12"
  }
 },
 "nbformat": 4,
 "nbformat_minor": 2
}
