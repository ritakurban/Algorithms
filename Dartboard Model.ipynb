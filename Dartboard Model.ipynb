{
 "cells": [
  {
   "cell_type": "markdown",
   "metadata": {},
   "source": [
    "# Dartboard Model\n",
    "## Professor Sterne\n",
    "## Rita Kurban\n",
    "## CS110\n",
    "## 10.15.2017"
   ]
  },
  {
   "cell_type": "markdown",
   "metadata": {},
   "source": [
    "In this simulation, I assume that the area of the square is 1 (width = 1, length = 1).\n",
    "The circle is inscribed in this square and thus has the radius of 0.5.\n",
    "The area of a circle is pi*r^2, which is in our case pi/4.\n",
    "If we divide the number of darts thrown into the circle by the total number of darts we get an estimate of the ratio of the circle area to the square area.\n",
    "As the area of the square is 1, we actually get an estimate of pi/4 as num_darts approaches infinity. By multiplying it by 4, we get an approximate value of pi."
   ]
  },
  {
   "cell_type": "code",
   "execution_count": 47,
   "metadata": {
    "collapsed": false
   },
   "outputs": [
    {
     "name": "stdout",
     "output_type": "stream",
     "text": [
      "3.1496\n",
      "0:00:00.098958\n"
     ]
    }
   ],
   "source": [
    "import random\n",
    "import math\n",
    "from scipy import stats\n",
    "import numpy as np\n",
    "\n",
    "from datetime import datetime\n",
    "\n",
    "\n",
    "def pi_estimator(num_darts):\n",
    "    count = 1\n",
    "    circle_hits = 0\n",
    "    square_hits = 0\n",
    "    dist = 0\n",
    "    x = 0\n",
    "    y = 0\n",
    "    circlex = []\n",
    "    circley =[]\n",
    "    #While loop runs the simulation num_darts times\n",
    "    while count <= num_darts:\n",
    "        #Chooses the coordinate for each dart\n",
    "        x = random.random()\n",
    "        y = random.random()\n",
    "        \n",
    "        #To determine the distance between the point and the center, I will use the Pythogorean theorem:\n",
    "        dist = math.sqrt((x - 0.5)**2 + (y - 0.5)**2)\n",
    "        if dist <= 0.5:\n",
    "            circle_hits += 1\n",
    "            square_hits += 1\n",
    "        else:\n",
    "            square_hits += 1\n",
    "        count += 1\n",
    "    pi = 4*(1.*circle_hits/square_hits)\n",
    "    return pi\n",
    "start=datetime.now()\n",
    "print pi_estimator(100000)\n",
    "print datetime.now()-start"
   ]
  },
  {
   "cell_type": "markdown",
   "metadata": {},
   "source": [
    "2. Standard error equals to standard deviation divided by the sqrt(sample_size). To calculate it, I chose a fixed number of throws (1000) and drew samples of different sizes from 10 to 1000. I set the final approximation to be the mean of all the approximations in the sample. The resulting list of standard errors is added to the plt.errorbar() function which plots green standard error bars on the graph. Error bars depend on the sample size because the bigger this number is, the better our approximation gets. The graph below demonstrates this trend: the approximations of pi for small sample sizes are further from the real value of pi and have higher error bars. Regarding the asymptotic notation, the standard error has O(n^(−1/2)) (as we divide by the sqrt(n)) as n --> ∞."
   ]
  },
  {
   "cell_type": "code",
   "execution_count": 27,
   "metadata": {
    "collapsed": false
   },
   "outputs": [],
   "source": [
    "x =[]\n",
    "y=[]\n",
    "errors = []\n",
    "#Generates multiple samples with different sample sizes\n",
    "for sample_size in range(10, 1000, 100):\n",
    "    sample = []\n",
    "    x.append(sample_size)\n",
    "    for value in range(sample_size):\n",
    "        sample.append(pi_estimator(1000))\n",
    "    #Finds the estimate and the standard error    \n",
    "    estimate = np.mean(sample)\n",
    "    y.append(estimate)\n",
    "    std_error = np.std(sample, ddof = 1)/math.sqrt(sample_size)\n",
    "    #Generates a list of errors that will be plotted as error bars in the graph\n",
    "    errors.append(std_error)"
   ]
  },
  {
   "cell_type": "code",
   "execution_count": 1,
   "metadata": {
    "collapsed": false
   },
   "outputs": [
    {
     "ename": "NameError",
     "evalue": "name 'x' is not defined",
     "output_type": "error",
     "traceback": [
      "\u001b[0;31m---------------------------------------------------------------------------\u001b[0m",
      "\u001b[0;31mNameError\u001b[0m                                 Traceback (most recent call last)",
      "\u001b[0;32m<ipython-input-1-98ad63056957>\u001b[0m in \u001b[0;36m<module>\u001b[0;34m()\u001b[0m\n\u001b[1;32m      3\u001b[0m \u001b[0;34m\u001b[0m\u001b[0m\n\u001b[1;32m      4\u001b[0m \u001b[0mplt\u001b[0m\u001b[0;34m.\u001b[0m\u001b[0mfigure\u001b[0m\u001b[0;34m(\u001b[0m\u001b[0mfigsize\u001b[0m\u001b[0;34m=\u001b[0m\u001b[0;34m(\u001b[0m\u001b[0;36m15\u001b[0m\u001b[0;34m,\u001b[0m\u001b[0;36m5\u001b[0m\u001b[0;34m)\u001b[0m\u001b[0;34m)\u001b[0m\u001b[0;34m\u001b[0m\u001b[0m\n\u001b[0;32m----> 5\u001b[0;31m \u001b[0mplt\u001b[0m\u001b[0;34m.\u001b[0m\u001b[0mscatter\u001b[0m\u001b[0;34m(\u001b[0m\u001b[0mx\u001b[0m\u001b[0;34m,\u001b[0m \u001b[0my\u001b[0m\u001b[0;34m,\u001b[0m\u001b[0ms\u001b[0m\u001b[0;34m=\u001b[0m\u001b[0;36m15\u001b[0m\u001b[0;34m)\u001b[0m\u001b[0;34m\u001b[0m\u001b[0m\n\u001b[0m\u001b[1;32m      6\u001b[0m \u001b[0;31m#plt.errorbar(x,y,yerr=errors, linestyle=\"None\", color = \"green\", elinewidth = 2)\u001b[0m\u001b[0;34m\u001b[0m\u001b[0;34m\u001b[0m\u001b[0m\n\u001b[1;32m      7\u001b[0m \u001b[0mplt\u001b[0m\u001b[0;34m.\u001b[0m\u001b[0maxhline\u001b[0m\u001b[0;34m(\u001b[0m\u001b[0my\u001b[0m \u001b[0;34m=\u001b[0m \u001b[0mmath\u001b[0m\u001b[0;34m.\u001b[0m\u001b[0mpi\u001b[0m\u001b[0;34m,\u001b[0m \u001b[0mcolor\u001b[0m\u001b[0;34m=\u001b[0m\u001b[0;34m\"red\"\u001b[0m\u001b[0;34m)\u001b[0m\u001b[0;34m\u001b[0m\u001b[0m\n",
      "\u001b[0;31mNameError\u001b[0m: name 'x' is not defined"
     ]
    },
    {
     "data": {
      "text/plain": [
       "<matplotlib.figure.Figure at 0x107551f50>"
      ]
     },
     "metadata": {},
     "output_type": "display_data"
    }
   ],
   "source": [
    "%matplotlib inline\n",
    "import matplotlib.pyplot as plt\n",
    "\n",
    "plt.figure(figsize=(15,5))\n",
    "plt.scatter(x, y,s=15)\n",
    "plt.errorbar(x,y,yerr=errors, linestyle=\"None\", color = \"green\", elinewidth = 2)\n",
    "plt.axhline(y = math.pi, color=\"red\")\n",
    "plt.ylabel('Pi Estimate')\n",
    "plt.xlabel('Sample Size')\n",
    "plt.show()"
   ]
  },
  {
   "cell_type": "markdown",
   "metadata": {},
   "source": [
    "    4(1). I tried to make the code simple and readable by choosing descriptive variable names and writing comments. I also separated different pieces of code (the simulation itself, the standard error and the plot) into different cells for the viewer to focus on a specific part without being distracted by the rest of the code.\n",
    "    \n",
    "    4(2). There are two ways to improve the accuracy of the approximation. First, we can increase the sample size for a specific number of throws as I did in the second question. The mean of a bigger number of approximations for a fixed sample size gives us a better approximation of the real value. Even if the number of throws is very low, we can repeat the simulation many times and, on average, the mean will be close to pi because the model is randomized (not biased) and, on average, it will produce higher estimates as often as lower estimates. \n",
    "\n",
    "    Another way to increase the accuracy, if the number of samples is fixed, is to increase the number of throws. As the number of throws approaches infinity, we get a far better estimate of the ratio of the circle area to the square area. If the number of throws is infinitely big, even a single run of the simulation will give us a very reliable, if not perfect, estimate of the actual number. However, as the computational power and time are limited, this is almost impossible in real life. "
   ]
  },
  {
   "cell_type": "markdown",
   "metadata": {},
   "source": [
    "5  To get one more decimal digit of accuracy we need to have a standard error which is 1/10 as large, which requires a 10^2-fold increase in computation. To get three more digits of accuracy requires 1000^2 times as much computation.  For example, if the researcher needs at least 10 digits, the standard error has to be less than 10^-10. As O(n^(-1/2)), n has to be larger than 10^20. I know that it takes my computer ≅0.09 sec to calculate the estimate when the number of throws is 10^5, so, by multiplying it by 10^15 I get 9*10^13 sec or approx. 3000000 years. It shows that this model is not so good for cases which require high precision."
   ]
  },
  {
   "cell_type": "markdown",
   "metadata": {},
   "source": [
    "HC modeling - I created a model that empirically calculates the value of pi and analyzed the accuracy of this model using standard errors.\n",
    "\n",
    "HC dataviz - I plotted the pi estimates with error bars for different sample sizes. The figure demonstrates how the error decreases as the sample size gets bigger as well as illustrates that the approximates are getting better.\n",
    "\n",
    "HC sampling - I generated multiple samples to calculate the standard error for the approximations."
   ]
  }
 ],
 "metadata": {
  "kernelspec": {
   "display_name": "Python 2",
   "language": "python",
   "name": "python2"
  },
  "language_info": {
   "codemirror_mode": {
    "name": "ipython",
    "version": 2
   },
   "file_extension": ".py",
   "mimetype": "text/x-python",
   "name": "python",
   "nbconvert_exporter": "python",
   "pygments_lexer": "ipython2",
   "version": "2.7.12"
  }
 },
 "nbformat": 4,
 "nbformat_minor": 1
}
